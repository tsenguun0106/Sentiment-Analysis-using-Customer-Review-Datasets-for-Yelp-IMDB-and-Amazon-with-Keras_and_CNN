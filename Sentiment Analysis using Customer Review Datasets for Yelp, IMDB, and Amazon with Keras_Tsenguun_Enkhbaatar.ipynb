{
 "cells": [
  {
   "cell_type": "code",
   "execution_count": 1,
   "metadata": {},
   "outputs": [
    {
     "name": "stderr",
     "output_type": "stream",
     "text": [
      "Using TensorFlow backend.\n"
     ]
    }
   ],
   "source": [
    "import numpy as np \n",
    "import pandas as pd \n",
    "import matplotlib.pyplot as plt\n",
    "plt.style.use('ggplot')\n",
    "\n",
    "from sklearn.feature_extraction.text import CountVectorizer\n",
    "from sklearn.model_selection import train_test_split\n",
    "from sklearn.linear_model import LogisticRegression\n",
    "from sklearn.preprocessing import LabelEncoder\n",
    "from sklearn.preprocessing import OneHotEncoder\n",
    "from sklearn.model_selection import RandomizedSearchCV\n",
    "\n",
    "from keras.models import Sequential\n",
    "from keras import layers\n",
    "from keras.preprocessing.text import Tokenizer\n",
    "from keras.preprocessing.sequence import pad_sequences\n",
    "from keras.wrappers.scikit_learn import KerasClassifier"
   ]
  },
  {
   "cell_type": "code",
   "execution_count": 4,
   "metadata": {},
   "outputs": [
    {
     "name": "stdout",
     "output_type": "stream",
     "text": [
      "['100_datasets.pdf', 'concrete_data.csv', 'Concrete_Strength_Prediction_Using_Keras_Tsenguun_Enkhbaatar_2.ipynb', 'gold_price_time_series_monthly.csv', 'home-credit-default-risk', 'home-credit-default-risk.zip', 'house price', 'property-sales', 'property-sales.zip', 'sentiment labelled sentences', 'sentiment-labelled-sentences-data-set (1).zip', 'zara_data_go_2019_all_dataset', 'zara_data_go_2019_all_dataset_A96QYAu7882jqg4z.zip', '^DJI.csv']\n"
     ]
    }
   ],
   "source": [
    "import os\n",
    "print(os.listdir(\"C:/Users/Tsenguunn/Documents/Kaggle\"))"
   ]
  },
  {
   "cell_type": "code",
   "execution_count": 5,
   "metadata": {},
   "outputs": [],
   "source": [
    "\n",
    "filepath_dict = { 'yelp': 'C:/Users/Tsenguunn/Documents/Kaggle/sentiment labelled sentences/yelp_labelled.txt',\n",
    "                  'amazon': 'C:/Users/Tsenguunn/Documents/Kaggle/sentiment labelled sentences/amazon_cells_labelled.txt',\n",
    "                  'imdb': 'C:/Users/Tsenguunn/Documents/Kaggle/sentiment labelled sentences/imdb_labelled.txt' }\n"
   ]
  },
  {
   "cell_type": "code",
   "execution_count": 7,
   "metadata": {},
   "outputs": [],
   "source": [
    "df_list = []\n",
    "\n",
    "for source, filepath in filepath_dict.items():\n",
    "    df = pd.read_csv( filepath, names=['sentences', 'label'], sep='\\t' )  \n",
    "    df['source'] = source\n",
    "    \n",
    "    df_list.append(df)\n",
    "    \n",
    "    \n",
    "    "
   ]
  },
  {
   "cell_type": "code",
   "execution_count": 10,
   "metadata": {},
   "outputs": [],
   "source": [
    "df = pd.concat(df_list)"
   ]
  },
  {
   "cell_type": "code",
   "execution_count": 11,
   "metadata": {},
   "outputs": [
    {
     "data": {
      "text/plain": [
       "(2748, 3)"
      ]
     },
     "execution_count": 11,
     "metadata": {},
     "output_type": "execute_result"
    }
   ],
   "source": [
    "df.shape"
   ]
  },
  {
   "cell_type": "markdown",
   "metadata": {},
   "source": [
    "<b> Here, I concanate the 3 datasets into one dataset. </b>"
   ]
  },
  {
   "cell_type": "code",
   "execution_count": 19,
   "metadata": {},
   "outputs": [
    {
     "data": {
      "text/html": [
       "<div>\n",
       "<style scoped>\n",
       "    .dataframe tbody tr th:only-of-type {\n",
       "        vertical-align: middle;\n",
       "    }\n",
       "\n",
       "    .dataframe tbody tr th {\n",
       "        vertical-align: top;\n",
       "    }\n",
       "\n",
       "    .dataframe thead th {\n",
       "        text-align: right;\n",
       "    }\n",
       "</style>\n",
       "<table border=\"1\" class=\"dataframe\">\n",
       "  <thead>\n",
       "    <tr style=\"text-align: right;\">\n",
       "      <th></th>\n",
       "      <th>sentences</th>\n",
       "      <th>label</th>\n",
       "      <th>source</th>\n",
       "    </tr>\n",
       "  </thead>\n",
       "  <tbody>\n",
       "    <tr>\n",
       "      <td>0</td>\n",
       "      <td>Wow... Loved this place.</td>\n",
       "      <td>1</td>\n",
       "      <td>yelp</td>\n",
       "    </tr>\n",
       "    <tr>\n",
       "      <td>1</td>\n",
       "      <td>Crust is not good.</td>\n",
       "      <td>0</td>\n",
       "      <td>yelp</td>\n",
       "    </tr>\n",
       "    <tr>\n",
       "      <td>2</td>\n",
       "      <td>Not tasty and the texture was just nasty.</td>\n",
       "      <td>0</td>\n",
       "      <td>yelp</td>\n",
       "    </tr>\n",
       "    <tr>\n",
       "      <td>3</td>\n",
       "      <td>Stopped by during the late May bank holiday of...</td>\n",
       "      <td>1</td>\n",
       "      <td>yelp</td>\n",
       "    </tr>\n",
       "    <tr>\n",
       "      <td>4</td>\n",
       "      <td>The selection on the menu was great and so wer...</td>\n",
       "      <td>1</td>\n",
       "      <td>yelp</td>\n",
       "    </tr>\n",
       "  </tbody>\n",
       "</table>\n",
       "</div>"
      ],
      "text/plain": [
       "                                           sentences  label source\n",
       "0                           Wow... Loved this place.      1   yelp\n",
       "1                                 Crust is not good.      0   yelp\n",
       "2          Not tasty and the texture was just nasty.      0   yelp\n",
       "3  Stopped by during the late May bank holiday of...      1   yelp\n",
       "4  The selection on the menu was great and so wer...      1   yelp"
      ]
     },
     "execution_count": 19,
     "metadata": {},
     "output_type": "execute_result"
    }
   ],
   "source": [
    "df.head()"
   ]
  },
  {
   "cell_type": "code",
   "execution_count": 20,
   "metadata": {},
   "outputs": [
    {
     "data": {
      "text/html": [
       "<div>\n",
       "<style scoped>\n",
       "    .dataframe tbody tr th:only-of-type {\n",
       "        vertical-align: middle;\n",
       "    }\n",
       "\n",
       "    .dataframe tbody tr th {\n",
       "        vertical-align: top;\n",
       "    }\n",
       "\n",
       "    .dataframe thead th {\n",
       "        text-align: right;\n",
       "    }\n",
       "</style>\n",
       "<table border=\"1\" class=\"dataframe\">\n",
       "  <thead>\n",
       "    <tr style=\"text-align: right;\">\n",
       "      <th></th>\n",
       "      <th>sentences</th>\n",
       "      <th>label</th>\n",
       "      <th>source</th>\n",
       "    </tr>\n",
       "  </thead>\n",
       "  <tbody>\n",
       "    <tr>\n",
       "      <td>743</td>\n",
       "      <td>I just got bored watching Jessice Lange take h...</td>\n",
       "      <td>0</td>\n",
       "      <td>imdb</td>\n",
       "    </tr>\n",
       "    <tr>\n",
       "      <td>744</td>\n",
       "      <td>Unfortunately, any virtue in this film's produ...</td>\n",
       "      <td>0</td>\n",
       "      <td>imdb</td>\n",
       "    </tr>\n",
       "    <tr>\n",
       "      <td>745</td>\n",
       "      <td>In a word, it is embarrassing.</td>\n",
       "      <td>0</td>\n",
       "      <td>imdb</td>\n",
       "    </tr>\n",
       "    <tr>\n",
       "      <td>746</td>\n",
       "      <td>Exceptionally bad!</td>\n",
       "      <td>0</td>\n",
       "      <td>imdb</td>\n",
       "    </tr>\n",
       "    <tr>\n",
       "      <td>747</td>\n",
       "      <td>All in all its an insult to one's intelligence...</td>\n",
       "      <td>0</td>\n",
       "      <td>imdb</td>\n",
       "    </tr>\n",
       "  </tbody>\n",
       "</table>\n",
       "</div>"
      ],
      "text/plain": [
       "                                             sentences  label source\n",
       "743  I just got bored watching Jessice Lange take h...      0   imdb\n",
       "744  Unfortunately, any virtue in this film's produ...      0   imdb\n",
       "745                   In a word, it is embarrassing.        0   imdb\n",
       "746                               Exceptionally bad!        0   imdb\n",
       "747  All in all its an insult to one's intelligence...      0   imdb"
      ]
     },
     "execution_count": 20,
     "metadata": {},
     "output_type": "execute_result"
    }
   ],
   "source": [
    "df.tail()"
   ]
  },
  {
   "cell_type": "code",
   "execution_count": 22,
   "metadata": {},
   "outputs": [],
   "source": [
    "df_yelp = df[df['source'] == 'yelp']\n",
    "sentences = df_yelp['sentences'].values\n",
    "y = df_yelp['label'].values"
   ]
  },
  {
   "cell_type": "code",
   "execution_count": 23,
   "metadata": {},
   "outputs": [],
   "source": [
    "sentences_train, sentences_test, y_train, y_test = train_test_split(sentences, y, test_size=0.25, random_state=1000)"
   ]
  },
  {
   "cell_type": "markdown",
   "metadata": {},
   "source": [
    "<b> In the following cell, I convert sentences into numerical vectors with integer type. </b>"
   ]
  },
  {
   "cell_type": "code",
   "execution_count": 24,
   "metadata": {},
   "outputs": [
    {
     "data": {
      "text/plain": [
       "CountVectorizer(analyzer='word', binary=False, decode_error='strict',\n",
       "                dtype=<class 'numpy.int64'>, encoding='utf-8', input='content',\n",
       "                lowercase=True, max_df=1.0, max_features=None, min_df=1,\n",
       "                ngram_range=(1, 1), preprocessor=None, stop_words=None,\n",
       "                strip_accents=None, token_pattern='(?u)\\\\b\\\\w\\\\w+\\\\b',\n",
       "                tokenizer=None, vocabulary=None)"
      ]
     },
     "execution_count": 24,
     "metadata": {},
     "output_type": "execute_result"
    }
   ],
   "source": [
    "vectorizer = CountVectorizer()\n",
    "\n",
    "vectorizer.fit(sentences_train)"
   ]
  },
  {
   "cell_type": "code",
   "execution_count": 25,
   "metadata": {},
   "outputs": [],
   "source": [
    "X_train = vectorizer.transform(sentences_train)\n",
    "X_test  = vectorizer.transform(sentences_test)"
   ]
  },
  {
   "cell_type": "markdown",
   "metadata": {},
   "source": [
    "<b> First, I employ Logistic Regression from the Sci-kit learn library. We can see that it achieved 79.6% accurace on the validation set. </b>"
   ]
  },
  {
   "cell_type": "code",
   "execution_count": 31,
   "metadata": {},
   "outputs": [
    {
     "name": "stdout",
     "output_type": "stream",
     "text": [
      "Accuracy: 0.796\n"
     ]
    },
    {
     "name": "stderr",
     "output_type": "stream",
     "text": [
      "C:\\Users\\Tsenguunn\\Anaconda3\\lib\\site-packages\\sklearn\\linear_model\\logistic.py:432: FutureWarning: Default solver will be changed to 'lbfgs' in 0.22. Specify a solver to silence this warning.\n",
      "  FutureWarning)\n"
     ]
    }
   ],
   "source": [
    "classifier = LogisticRegression()\n",
    "classifier.fit(X_train, y_train)\n",
    "score = classifier.score(X_test, y_test)\n",
    "\n",
    "print(\"Accuracy:\", score)"
   ]
  },
  {
   "cell_type": "code",
   "execution_count": 34,
   "metadata": {},
   "outputs": [
    {
     "name": "stdout",
     "output_type": "stream",
     "text": [
      "Accuracy for yelp data: 0.7960\n",
      "Accuracy for amazon data: 0.7960\n",
      "Accuracy for imdb data: 0.7487\n"
     ]
    },
    {
     "name": "stderr",
     "output_type": "stream",
     "text": [
      "C:\\Users\\Tsenguunn\\Anaconda3\\lib\\site-packages\\sklearn\\linear_model\\logistic.py:432: FutureWarning: Default solver will be changed to 'lbfgs' in 0.22. Specify a solver to silence this warning.\n",
      "  FutureWarning)\n",
      "C:\\Users\\Tsenguunn\\Anaconda3\\lib\\site-packages\\sklearn\\linear_model\\logistic.py:432: FutureWarning: Default solver will be changed to 'lbfgs' in 0.22. Specify a solver to silence this warning.\n",
      "  FutureWarning)\n",
      "C:\\Users\\Tsenguunn\\Anaconda3\\lib\\site-packages\\sklearn\\linear_model\\logistic.py:432: FutureWarning: Default solver will be changed to 'lbfgs' in 0.22. Specify a solver to silence this warning.\n",
      "  FutureWarning)\n"
     ]
    }
   ],
   "source": [
    "for source in df['source'].unique():\n",
    "    df_source = df[df['source'] == source]\n",
    "    sentences = df_source['sentences'].values\n",
    "    y = df_source['label'].values\n",
    "    sentences_train, sentences_test, y_train, y_test = train_test_split( sentences, y, test_size=0.25, random_state=1000)\n",
    "\n",
    "    vectorizer = CountVectorizer()\n",
    "    vectorizer.fit(sentences_train)\n",
    "    X_train = vectorizer.transform(sentences_train)\n",
    "    X_test  = vectorizer.transform(sentences_test)\n",
    "\n",
    "    classifier = LogisticRegression()\n",
    "    classifier.fit(X_train, y_train)\n",
    "    score = classifier.score(X_test, y_test)\n",
    "    print('Accuracy for {} data: {:.4f}'.format(source, score))"
   ]
  },
  {
   "cell_type": "code",
   "execution_count": 37,
   "metadata": {},
   "outputs": [
    {
     "data": {
      "text/plain": [
       "2505"
      ]
     },
     "execution_count": 37,
     "metadata": {},
     "output_type": "execute_result"
    }
   ],
   "source": [
    "input_dim = X_train.shape[1]\n",
    "input_dim"
   ]
  },
  {
   "cell_type": "markdown",
   "metadata": {},
   "source": [
    "<b> Below, I build sequantial model with one dense layer. We can see that test accuracy 76.5%. </b>"
   ]
  },
  {
   "cell_type": "code",
   "execution_count": 41,
   "metadata": {},
   "outputs": [
    {
     "name": "stdout",
     "output_type": "stream",
     "text": [
      "WARNING:tensorflow:From C:\\Users\\Tsenguunn\\Anaconda3\\lib\\site-packages\\keras\\backend\\tensorflow_backend.py:74: The name tf.get_default_graph is deprecated. Please use tf.compat.v1.get_default_graph instead.\n",
      "\n",
      "WARNING:tensorflow:From C:\\Users\\Tsenguunn\\Anaconda3\\lib\\site-packages\\keras\\backend\\tensorflow_backend.py:517: The name tf.placeholder is deprecated. Please use tf.compat.v1.placeholder instead.\n",
      "\n",
      "WARNING:tensorflow:From C:\\Users\\Tsenguunn\\Anaconda3\\lib\\site-packages\\keras\\backend\\tensorflow_backend.py:4138: The name tf.random_uniform is deprecated. Please use tf.random.uniform instead.\n",
      "\n"
     ]
    }
   ],
   "source": [
    "model = Sequential()\n",
    "model.add(layers.Dense(10, input_dim=input_dim, activation='relu'))\n",
    "model.add(layers.Dense(1, activation='sigmoid'))"
   ]
  },
  {
   "cell_type": "code",
   "execution_count": 42,
   "metadata": {},
   "outputs": [
    {
     "name": "stdout",
     "output_type": "stream",
     "text": [
      "WARNING:tensorflow:From C:\\Users\\Tsenguunn\\Anaconda3\\lib\\site-packages\\keras\\optimizers.py:790: The name tf.train.Optimizer is deprecated. Please use tf.compat.v1.train.Optimizer instead.\n",
      "\n",
      "WARNING:tensorflow:From C:\\Users\\Tsenguunn\\Anaconda3\\lib\\site-packages\\keras\\backend\\tensorflow_backend.py:3376: The name tf.log is deprecated. Please use tf.math.log instead.\n",
      "\n",
      "WARNING:tensorflow:From C:\\Users\\Tsenguunn\\Anaconda3\\lib\\site-packages\\tensorflow_core\\python\\ops\\nn_impl.py:183: where (from tensorflow.python.ops.array_ops) is deprecated and will be removed in a future version.\n",
      "Instructions for updating:\n",
      "Use tf.where in 2.0, which has the same broadcast rule as np.where\n",
      "_________________________________________________________________\n",
      "Layer (type)                 Output Shape              Param #   \n",
      "=================================================================\n",
      "dense_1 (Dense)              (None, 10)                25060     \n",
      "_________________________________________________________________\n",
      "dense_2 (Dense)              (None, 1)                 11        \n",
      "=================================================================\n",
      "Total params: 25,071\n",
      "Trainable params: 25,071\n",
      "Non-trainable params: 0\n",
      "_________________________________________________________________\n"
     ]
    }
   ],
   "source": [
    "model.compile(loss='binary_crossentropy', \n",
    "              optimizer='adam', \n",
    "              metrics=['accuracy'])\n",
    "model.summary()"
   ]
  },
  {
   "cell_type": "code",
   "execution_count": 43,
   "metadata": {},
   "outputs": [
    {
     "name": "stdout",
     "output_type": "stream",
     "text": [
      "WARNING:tensorflow:From C:\\Users\\Tsenguunn\\Anaconda3\\lib\\site-packages\\keras\\backend\\tensorflow_backend.py:986: The name tf.assign_add is deprecated. Please use tf.compat.v1.assign_add instead.\n",
      "\n",
      "WARNING:tensorflow:From C:\\Users\\Tsenguunn\\Anaconda3\\lib\\site-packages\\keras\\backend\\tensorflow_backend.py:973: The name tf.assign is deprecated. Please use tf.compat.v1.assign instead.\n",
      "\n",
      "WARNING:tensorflow:From C:\\Users\\Tsenguunn\\Anaconda3\\lib\\site-packages\\keras\\backend\\tensorflow_backend.py:2741: The name tf.Session is deprecated. Please use tf.compat.v1.Session instead.\n",
      "\n",
      "Train on 561 samples, validate on 187 samples\n",
      "Epoch 1/100\n",
      "WARNING:tensorflow:From C:\\Users\\Tsenguunn\\Anaconda3\\lib\\site-packages\\keras\\backend\\tensorflow_backend.py:174: The name tf.get_default_session is deprecated. Please use tf.compat.v1.get_default_session instead.\n",
      "\n",
      "WARNING:tensorflow:From C:\\Users\\Tsenguunn\\Anaconda3\\lib\\site-packages\\keras\\backend\\tensorflow_backend.py:181: The name tf.ConfigProto is deprecated. Please use tf.compat.v1.ConfigProto instead.\n",
      "\n",
      "WARNING:tensorflow:From C:\\Users\\Tsenguunn\\Anaconda3\\lib\\site-packages\\keras\\backend\\tensorflow_backend.py:190: The name tf.global_variables is deprecated. Please use tf.compat.v1.global_variables instead.\n",
      "\n",
      "WARNING:tensorflow:From C:\\Users\\Tsenguunn\\Anaconda3\\lib\\site-packages\\keras\\backend\\tensorflow_backend.py:199: The name tf.is_variable_initialized is deprecated. Please use tf.compat.v1.is_variable_initialized instead.\n",
      "\n",
      "WARNING:tensorflow:From C:\\Users\\Tsenguunn\\Anaconda3\\lib\\site-packages\\keras\\backend\\tensorflow_backend.py:206: The name tf.variables_initializer is deprecated. Please use tf.compat.v1.variables_initializer instead.\n",
      "\n",
      "561/561 [==============================] - 1s 2ms/step - loss: 0.6980 - acc: 0.5312 - val_loss: 0.6870 - val_acc: 0.6257\n",
      "Epoch 2/100\n",
      "561/561 [==============================] - 0s 380us/step - loss: 0.6477 - acc: 0.7754 - val_loss: 0.6668 - val_acc: 0.6952\n",
      "Epoch 3/100\n",
      "561/561 [==============================] - 0s 345us/step - loss: 0.5850 - acc: 0.8788 - val_loss: 0.6413 - val_acc: 0.7219\n",
      "Epoch 4/100\n",
      "561/561 [==============================] - 0s 281us/step - loss: 0.4935 - acc: 0.9180 - val_loss: 0.6180 - val_acc: 0.7540\n",
      "Epoch 5/100\n",
      "561/561 [==============================] - 0s 300us/step - loss: 0.3956 - acc: 0.9590 - val_loss: 0.5701 - val_acc: 0.7754\n",
      "Epoch 6/100\n",
      "561/561 [==============================] - 0s 416us/step - loss: 0.3129 - acc: 0.9786 - val_loss: 0.5525 - val_acc: 0.7701\n",
      "Epoch 7/100\n",
      "561/561 [==============================] - 0s 236us/step - loss: 0.2513 - acc: 0.9840 - val_loss: 0.5017 - val_acc: 0.7701\n",
      "Epoch 8/100\n",
      "561/561 [==============================] - 0s 276us/step - loss: 0.2038 - acc: 0.9875 - val_loss: 0.5134 - val_acc: 0.7594\n",
      "Epoch 9/100\n",
      "561/561 [==============================] - 0s 247us/step - loss: 0.1683 - acc: 0.9893 - val_loss: 0.5105 - val_acc: 0.7701\n",
      "Epoch 10/100\n",
      "561/561 [==============================] - 0s 238us/step - loss: 0.1410 - acc: 0.9929 - val_loss: 0.5103 - val_acc: 0.7754\n",
      "Epoch 11/100\n",
      "561/561 [==============================] - 0s 235us/step - loss: 0.1188 - acc: 0.9964 - val_loss: 0.4909 - val_acc: 0.8021\n",
      "Epoch 12/100\n",
      "561/561 [==============================] - 0s 208us/step - loss: 0.1022 - acc: 0.9982 - val_loss: 0.4874 - val_acc: 0.8075\n",
      "Epoch 13/100\n",
      "561/561 [==============================] - 0s 226us/step - loss: 0.0885 - acc: 0.9982 - val_loss: 0.4821 - val_acc: 0.8128\n",
      "Epoch 14/100\n",
      "561/561 [==============================] - 0s 233us/step - loss: 0.0766 - acc: 0.9982 - val_loss: 0.5126 - val_acc: 0.7968\n",
      "Epoch 15/100\n",
      "561/561 [==============================] - 0s 229us/step - loss: 0.0671 - acc: 0.9982 - val_loss: 0.5092 - val_acc: 0.8075\n",
      "Epoch 16/100\n",
      "561/561 [==============================] - 0s 228us/step - loss: 0.0594 - acc: 0.9982 - val_loss: 0.5243 - val_acc: 0.8021\n",
      "Epoch 17/100\n",
      "561/561 [==============================] - 0s 217us/step - loss: 0.0528 - acc: 0.9982 - val_loss: 0.5333 - val_acc: 0.8075\n",
      "Epoch 18/100\n",
      "561/561 [==============================] - 0s 224us/step - loss: 0.0473 - acc: 0.9982 - val_loss: 0.5153 - val_acc: 0.8021\n",
      "Epoch 19/100\n",
      "561/561 [==============================] - 0s 206us/step - loss: 0.0424 - acc: 0.9982 - val_loss: 0.5285 - val_acc: 0.7968\n",
      "Epoch 20/100\n",
      "561/561 [==============================] - 0s 210us/step - loss: 0.0384 - acc: 0.9982 - val_loss: 0.5340 - val_acc: 0.7968\n",
      "Epoch 21/100\n",
      "561/561 [==============================] - 0s 263us/step - loss: 0.0348 - acc: 0.9982 - val_loss: 0.5342 - val_acc: 0.7968\n",
      "Epoch 22/100\n",
      "561/561 [==============================] - 0s 258us/step - loss: 0.0317 - acc: 0.9982 - val_loss: 0.5508 - val_acc: 0.7914\n",
      "Epoch 23/100\n",
      "561/561 [==============================] - 0s 215us/step - loss: 0.0289 - acc: 0.9982 - val_loss: 0.5581 - val_acc: 0.7914\n",
      "Epoch 24/100\n",
      "561/561 [==============================] - 0s 201us/step - loss: 0.0264 - acc: 0.9982 - val_loss: 0.5778 - val_acc: 0.7914\n",
      "Epoch 25/100\n",
      "561/561 [==============================] - 0s 236us/step - loss: 0.0243 - acc: 0.9982 - val_loss: 0.5851 - val_acc: 0.7861\n",
      "Epoch 26/100\n",
      "561/561 [==============================] - 0s 236us/step - loss: 0.0223 - acc: 0.9982 - val_loss: 0.5827 - val_acc: 0.7861\n",
      "Epoch 27/100\n",
      "561/561 [==============================] - 0s 204us/step - loss: 0.0206 - acc: 0.9982 - val_loss: 0.5907 - val_acc: 0.7861\n",
      "Epoch 28/100\n",
      "561/561 [==============================] - 0s 201us/step - loss: 0.0191 - acc: 0.9982 - val_loss: 0.6007 - val_acc: 0.7754\n",
      "Epoch 29/100\n",
      "561/561 [==============================] - 0s 204us/step - loss: 0.0177 - acc: 0.9982 - val_loss: 0.6043 - val_acc: 0.7754\n",
      "Epoch 30/100\n",
      "561/561 [==============================] - 0s 233us/step - loss: 0.0164 - acc: 0.9982 - val_loss: 0.6101 - val_acc: 0.7754\n",
      "Epoch 31/100\n",
      "561/561 [==============================] - 0s 196us/step - loss: 0.0152 - acc: 0.9982 - val_loss: 0.6160 - val_acc: 0.7754\n",
      "Epoch 32/100\n",
      "561/561 [==============================] - 0s 203us/step - loss: 0.0142 - acc: 0.9982 - val_loss: 0.6190 - val_acc: 0.7754\n",
      "Epoch 33/100\n",
      "561/561 [==============================] - 0s 203us/step - loss: 0.0132 - acc: 0.9982 - val_loss: 0.6262 - val_acc: 0.7754\n",
      "Epoch 34/100\n",
      "561/561 [==============================] - 0s 219us/step - loss: 0.0123 - acc: 1.0000 - val_loss: 0.6317 - val_acc: 0.7754\n",
      "Epoch 35/100\n",
      "561/561 [==============================] - 0s 229us/step - loss: 0.0115 - acc: 1.0000 - val_loss: 0.6369 - val_acc: 0.7754\n",
      "Epoch 36/100\n",
      "561/561 [==============================] - 0s 251us/step - loss: 0.0109 - acc: 1.0000 - val_loss: 0.6430 - val_acc: 0.7754\n",
      "Epoch 37/100\n",
      "561/561 [==============================] - 0s 270us/step - loss: 0.0101 - acc: 1.0000 - val_loss: 0.6485 - val_acc: 0.7754\n",
      "Epoch 38/100\n",
      "561/561 [==============================] - 0s 368us/step - loss: 0.0094 - acc: 1.0000 - val_loss: 0.6549 - val_acc: 0.7754\n",
      "Epoch 39/100\n",
      "561/561 [==============================] - 0s 274us/step - loss: 0.0089 - acc: 1.0000 - val_loss: 0.6603 - val_acc: 0.7754\n",
      "Epoch 40/100\n",
      "561/561 [==============================] - 0s 304us/step - loss: 0.0083 - acc: 1.0000 - val_loss: 0.6650 - val_acc: 0.7754\n",
      "Epoch 41/100\n",
      "561/561 [==============================] - 0s 359us/step - loss: 0.0078 - acc: 1.0000 - val_loss: 0.6707 - val_acc: 0.7754\n",
      "Epoch 42/100\n",
      "561/561 [==============================] - 0s 270us/step - loss: 0.0074 - acc: 1.0000 - val_loss: 0.6754 - val_acc: 0.7754\n",
      "Epoch 43/100\n",
      "561/561 [==============================] - 0s 279us/step - loss: 0.0069 - acc: 1.0000 - val_loss: 0.6812 - val_acc: 0.7754\n",
      "Epoch 44/100\n",
      "561/561 [==============================] - 0s 256us/step - loss: 0.0066 - acc: 1.0000 - val_loss: 0.6868 - val_acc: 0.7754\n",
      "Epoch 45/100\n",
      "561/561 [==============================] - 0s 260us/step - loss: 0.0062 - acc: 1.0000 - val_loss: 0.6916 - val_acc: 0.7807\n",
      "Epoch 46/100\n",
      "561/561 [==============================] - 0s 256us/step - loss: 0.0059 - acc: 1.0000 - val_loss: 0.6967 - val_acc: 0.7807\n",
      "Epoch 47/100\n",
      "561/561 [==============================] - 0s 288us/step - loss: 0.0055 - acc: 1.0000 - val_loss: 0.7013 - val_acc: 0.7807\n",
      "Epoch 48/100\n",
      "561/561 [==============================] - 0s 270us/step - loss: 0.0052 - acc: 1.0000 - val_loss: 0.7072 - val_acc: 0.7807\n",
      "Epoch 49/100\n",
      "561/561 [==============================] - 0s 290us/step - loss: 0.0050 - acc: 1.0000 - val_loss: 0.7111 - val_acc: 0.7807\n",
      "Epoch 50/100\n",
      "561/561 [==============================] - 0s 276us/step - loss: 0.0047 - acc: 1.0000 - val_loss: 0.7158 - val_acc: 0.7807\n",
      "Epoch 51/100\n",
      "561/561 [==============================] - 0s 238us/step - loss: 0.0045 - acc: 1.0000 - val_loss: 0.7211 - val_acc: 0.7754\n",
      "Epoch 52/100\n",
      "561/561 [==============================] - 0s 247us/step - loss: 0.0043 - acc: 1.0000 - val_loss: 0.7281 - val_acc: 0.7807\n",
      "Epoch 53/100\n",
      "561/561 [==============================] - 0s 247us/step - loss: 0.0040 - acc: 1.0000 - val_loss: 0.7329 - val_acc: 0.7807\n",
      "Epoch 54/100\n",
      "561/561 [==============================] - 0s 252us/step - loss: 0.0038 - acc: 1.0000 - val_loss: 0.7381 - val_acc: 0.7754\n",
      "Epoch 55/100\n",
      "561/561 [==============================] - 0s 252us/step - loss: 0.0036 - acc: 1.0000 - val_loss: 0.7421 - val_acc: 0.7754\n",
      "Epoch 56/100\n",
      "561/561 [==============================] - 0s 313us/step - loss: 0.0035 - acc: 1.0000 - val_loss: 0.7470 - val_acc: 0.7754\n",
      "Epoch 57/100\n",
      "561/561 [==============================] - 0s 373us/step - loss: 0.0033 - acc: 1.0000 - val_loss: 0.7523 - val_acc: 0.7754\n",
      "Epoch 58/100\n",
      "561/561 [==============================] - 0s 251us/step - loss: 0.0032 - acc: 1.0000 - val_loss: 0.7564 - val_acc: 0.7754\n",
      "Epoch 59/100\n",
      "561/561 [==============================] - 0s 251us/step - loss: 0.0030 - acc: 1.0000 - val_loss: 0.7613 - val_acc: 0.7754\n",
      "Epoch 60/100\n",
      "561/561 [==============================] - 0s 272us/step - loss: 0.0029 - acc: 1.0000 - val_loss: 0.7662 - val_acc: 0.7754\n",
      "Epoch 61/100\n",
      "561/561 [==============================] - 0s 244us/step - loss: 0.0027 - acc: 1.0000 - val_loss: 0.7705 - val_acc: 0.7754\n",
      "Epoch 62/100\n",
      "561/561 [==============================] - 0s 272us/step - loss: 0.0026 - acc: 1.0000 - val_loss: 0.7750 - val_acc: 0.7754\n",
      "Epoch 63/100\n",
      "561/561 [==============================] - 0s 261us/step - loss: 0.0025 - acc: 1.0000 - val_loss: 0.7810 - val_acc: 0.7754\n",
      "Epoch 64/100\n",
      "561/561 [==============================] - 0s 297us/step - loss: 0.0024 - acc: 1.0000 - val_loss: 0.7848 - val_acc: 0.7754\n",
      "Epoch 65/100\n",
      "561/561 [==============================] - 0s 247us/step - loss: 0.0023 - acc: 1.0000 - val_loss: 0.7898 - val_acc: 0.7754\n",
      "Epoch 66/100\n",
      "561/561 [==============================] - 0s 279us/step - loss: 0.0022 - acc: 1.0000 - val_loss: 0.7945 - val_acc: 0.7754\n",
      "Epoch 67/100\n",
      "561/561 [==============================] - 0s 340us/step - loss: 0.0021 - acc: 1.0000 - val_loss: 0.7981 - val_acc: 0.7754\n",
      "Epoch 68/100\n",
      "561/561 [==============================] - 0s 380us/step - loss: 0.0020 - acc: 1.0000 - val_loss: 0.8022 - val_acc: 0.7754\n",
      "Epoch 69/100\n",
      "561/561 [==============================] - 0s 498us/step - loss: 0.0019 - acc: 1.0000 - val_loss: 0.8069 - val_acc: 0.7701\n",
      "Epoch 70/100\n",
      "561/561 [==============================] - 0s 409us/step - loss: 0.0019 - acc: 1.0000 - val_loss: 0.8113 - val_acc: 0.7754\n",
      "Epoch 71/100\n",
      "561/561 [==============================] - 0s 455us/step - loss: 0.0018 - acc: 1.0000 - val_loss: 0.8165 - val_acc: 0.7701\n",
      "Epoch 72/100\n",
      "561/561 [==============================] - 0s 564us/step - loss: 0.0017 - acc: 1.0000 - val_loss: 0.8199 - val_acc: 0.7701\n",
      "Epoch 73/100\n",
      "561/561 [==============================] - 0s 236us/step - loss: 0.0016 - acc: 1.0000 - val_loss: 0.8256 - val_acc: 0.7701\n",
      "Epoch 74/100\n",
      "561/561 [==============================] - 0s 265us/step - loss: 0.0016 - acc: 1.0000 - val_loss: 0.8291 - val_acc: 0.7701\n",
      "Epoch 75/100\n",
      "561/561 [==============================] - 0s 249us/step - loss: 0.0015 - acc: 1.0000 - val_loss: 0.8345 - val_acc: 0.7701\n",
      "Epoch 76/100\n",
      "561/561 [==============================] - 0s 244us/step - loss: 0.0014 - acc: 1.0000 - val_loss: 0.8386 - val_acc: 0.7701\n",
      "Epoch 77/100\n",
      "561/561 [==============================] - 0s 231us/step - loss: 0.0014 - acc: 1.0000 - val_loss: 0.8425 - val_acc: 0.7701\n",
      "Epoch 78/100\n",
      "561/561 [==============================] - 0s 208us/step - loss: 0.0013 - acc: 1.0000 - val_loss: 0.8471 - val_acc: 0.7701\n",
      "Epoch 79/100\n",
      "561/561 [==============================] - 0s 380us/step - loss: 0.0013 - acc: 1.0000 - val_loss: 0.8521 - val_acc: 0.7701\n",
      "Epoch 80/100\n",
      "561/561 [==============================] - 0s 304us/step - loss: 0.0012 - acc: 1.0000 - val_loss: 0.8566 - val_acc: 0.7701\n",
      "Epoch 81/100\n",
      "561/561 [==============================] - 0s 423us/step - loss: 0.0012 - acc: 1.0000 - val_loss: 0.8608 - val_acc: 0.7701\n",
      "Epoch 82/100\n",
      "561/561 [==============================] - 0s 560us/step - loss: 0.0011 - acc: 1.0000 - val_loss: 0.8655 - val_acc: 0.7701\n",
      "Epoch 83/100\n",
      "561/561 [==============================] - 0s 334us/step - loss: 0.0011 - acc: 1.0000 - val_loss: 0.8695 - val_acc: 0.7701\n",
      "Epoch 84/100\n",
      "561/561 [==============================] - 0s 300us/step - loss: 0.0010 - acc: 1.0000 - val_loss: 0.8743 - val_acc: 0.7701\n",
      "Epoch 85/100\n",
      "561/561 [==============================] - 0s 284us/step - loss: 0.0010 - acc: 1.0000 - val_loss: 0.8786 - val_acc: 0.7647\n",
      "Epoch 86/100\n",
      "561/561 [==============================] - 0s 277us/step - loss: 9.6376e-04 - acc: 1.0000 - val_loss: 0.8833 - val_acc: 0.7701\n",
      "Epoch 87/100\n",
      "561/561 [==============================] - 0s 284us/step - loss: 9.2954e-04 - acc: 1.0000 - val_loss: 0.8873 - val_acc: 0.7647\n",
      "Epoch 88/100\n",
      "561/561 [==============================] - 0s 300us/step - loss: 8.9139e-04 - acc: 1.0000 - val_loss: 0.8912 - val_acc: 0.7647\n",
      "Epoch 89/100\n",
      "561/561 [==============================] - 0s 297us/step - loss: 8.6523e-04 - acc: 1.0000 - val_loss: 0.8960 - val_acc: 0.7647\n",
      "Epoch 90/100\n",
      "561/561 [==============================] - 0s 290us/step - loss: 8.2977e-04 - acc: 1.0000 - val_loss: 0.9005 - val_acc: 0.7647\n",
      "Epoch 91/100\n",
      "561/561 [==============================] - 0s 276us/step - loss: 7.9731e-04 - acc: 1.0000 - val_loss: 0.9043 - val_acc: 0.7647\n",
      "Epoch 92/100\n",
      "561/561 [==============================] - 0s 288us/step - loss: 7.6888e-04 - acc: 1.0000 - val_loss: 0.9084 - val_acc: 0.7647\n",
      "Epoch 93/100\n",
      "561/561 [==============================] - 0s 286us/step - loss: 7.3924e-04 - acc: 1.0000 - val_loss: 0.9127 - val_acc: 0.7701\n",
      "Epoch 94/100\n",
      "561/561 [==============================] - 0s 277us/step - loss: 7.1137e-04 - acc: 1.0000 - val_loss: 0.9159 - val_acc: 0.7701\n",
      "Epoch 95/100\n",
      "561/561 [==============================] - 0s 288us/step - loss: 6.8824e-04 - acc: 1.0000 - val_loss: 0.9209 - val_acc: 0.7647\n",
      "Epoch 96/100\n",
      "561/561 [==============================] - 0s 304us/step - loss: 6.6016e-04 - acc: 1.0000 - val_loss: 0.9248 - val_acc: 0.7701\n",
      "Epoch 97/100\n",
      "561/561 [==============================] - 0s 284us/step - loss: 6.3572e-04 - acc: 1.0000 - val_loss: 0.9288 - val_acc: 0.7701\n",
      "Epoch 98/100\n",
      "561/561 [==============================] - 0s 272us/step - loss: 6.1382e-04 - acc: 1.0000 - val_loss: 0.9324 - val_acc: 0.7701\n",
      "Epoch 99/100\n",
      "561/561 [==============================] - 0s 286us/step - loss: 5.8889e-04 - acc: 1.0000 - val_loss: 0.9394 - val_acc: 0.7647\n",
      "Epoch 100/100\n",
      "561/561 [==============================] - 0s 331us/step - loss: 5.6942e-04 - acc: 1.0000 - val_loss: 0.9435 - val_acc: 0.7647\n"
     ]
    }
   ],
   "source": [
    "history = model.fit(X_train, y_train,\n",
    "                    epochs=100,\n",
    "                    verbose=True,\n",
    "                    validation_data=(X_test, y_test),\n",
    "                    batch_size=10)"
   ]
  },
  {
   "cell_type": "code",
   "execution_count": 44,
   "metadata": {},
   "outputs": [
    {
     "name": "stdout",
     "output_type": "stream",
     "text": [
      "Training Accuracy: 1.0000\n",
      "Testing Accuracy:  0.7647\n"
     ]
    }
   ],
   "source": [
    "loss, accuracy = model.evaluate(X_train, y_train, verbose=False)\n",
    "print(\"Training Accuracy: {:.4f}\".format(accuracy))\n",
    "loss, accuracy = model.evaluate(X_test, y_test, verbose=False)\n",
    "print(\"Testing Accuracy:  {:.4f}\".format(accuracy))"
   ]
  },
  {
   "cell_type": "code",
   "execution_count": 45,
   "metadata": {},
   "outputs": [],
   "source": [
    "def plot_history(history):\n",
    "    acc = history.history['acc']\n",
    "    val_acc = history.history['val_acc']\n",
    "    loss = history.history['loss']\n",
    "    val_loss = history.history['val_loss']\n",
    "    x = range(1, len(acc) + 1)\n",
    "\n",
    "    plt.figure(figsize=(12, 5))\n",
    "    plt.subplot(1, 2, 1)\n",
    "    plt.plot(x, acc, 'b', label='Training acc')\n",
    "    plt.plot(x, val_acc, 'r', label='Validation acc')\n",
    "    plt.title('Training and validation accuracy')\n",
    "    plt.legend()\n",
    "    plt.subplot(1, 2, 2)\n",
    "    plt.plot(x, loss, 'b', label='Training loss')\n",
    "    plt.plot(x, val_loss, 'r', label='Validation loss')\n",
    "    plt.title('Training and validation loss')\n",
    "    plt.legend()"
   ]
  },
  {
   "cell_type": "code",
   "execution_count": 46,
   "metadata": {},
   "outputs": [
    {
     "data": {
      "image/png": "[encoded data removed]",
      "text/plain": [
       "<Figure size 864x360 with 2 Axes>"
      ]
     },
     "metadata": {
      "needs_background": "light"
     },
     "output_type": "display_data"
    }
   ],
   "source": [
    "plot_history(history)"
   ]
  },
  {
   "cell_type": "markdown",
   "metadata": {},
   "source": [
    "<b> Here, I tokenize sentences into as a vector of individual words. </b>"
   ]
  },
  {
   "cell_type": "code",
   "execution_count": 48,
   "metadata": {},
   "outputs": [
    {
     "name": "stdout",
     "output_type": "stream",
     "text": [
      "It was that year, however, that reminded us that Huston was still at the top of his game as evinced by his faithful adaptation of James Joyce's acclaimed novella \"The Dead.  \n",
      "[8, 12, 14, 311, 199, 14, 938, 394, 14, 939, 12, 112, 31, 1, 255, 4, 49, 173, 17, 940, 38, 49, 941, 565, 4, 942, 943, 944, 945, 1, 566]\n"
     ]
    }
   ],
   "source": [
    "tokenizer = Tokenizer(num_words=5000)\n",
    "tokenizer.fit_on_texts(sentences_train)\n",
    "\n",
    "X_train = tokenizer.texts_to_sequences(sentences_train)\n",
    "X_test = tokenizer.texts_to_sequences(sentences_test)\n",
    "\n",
    "vocab_size = len(tokenizer.word_index) + 1  \n",
    "\n",
    "print(sentences_train[5])\n",
    "print(X_train[5])"
   ]
  },
  {
   "cell_type": "code",
   "execution_count": 49,
   "metadata": {},
   "outputs": [
    {
     "name": "stdout",
     "output_type": "stream",
     "text": [
      "the: 1\n",
      "all: 27\n",
      "fan: 932\n"
     ]
    }
   ],
   "source": [
    "for word in ['the', 'all','fan']:\n",
    "    print('{}: {}'.format(word, tokenizer.word_index[word]))"
   ]
  },
  {
   "cell_type": "code",
   "execution_count": 50,
   "metadata": {},
   "outputs": [
    {
     "name": "stdout",
     "output_type": "stream",
     "text": [
      "[170 116 390  35   0   0   0   0   0   0   0   0   0   0   0   0   0   0\n",
      "   0   0   0   0   0   0   0   0   0   0   0   0   0   0   0   0   0   0\n",
      "   0   0   0   0   0   0   0   0   0   0   0   0   0   0   0   0   0   0\n",
      "   0   0   0   0   0   0   0   0   0   0   0   0   0   0   0   0   0   0\n",
      "   0   0   0   0   0   0   0   0   0   0   0   0   0   0   0   0   0   0\n",
      "   0   0   0   0   0   0   0   0   0   0]\n"
     ]
    }
   ],
   "source": [
    "maxlen = 100\n",
    "\n",
    "X_train = pad_sequences(X_train, padding='post', maxlen=maxlen)\n",
    "X_test = pad_sequences(X_test, padding='post', maxlen=maxlen)\n",
    "\n",
    "print(X_train[0, :])"
   ]
  },
  {
   "cell_type": "markdown",
   "metadata": {},
   "source": [
    "<b> Below, I build Deep Learning model with Embedding layer and one Dense layer. And validation set accuracy is 66.3% </b>"
   ]
  },
  {
   "cell_type": "code",
   "execution_count": 51,
   "metadata": {},
   "outputs": [
    {
     "name": "stdout",
     "output_type": "stream",
     "text": [
      "_________________________________________________________________\n",
      "Layer (type)                 Output Shape              Param #   \n",
      "=================================================================\n",
      "embedding_1 (Embedding)      (None, 100, 50)           128750    \n",
      "_________________________________________________________________\n",
      "flatten_1 (Flatten)          (None, 5000)              0         \n",
      "_________________________________________________________________\n",
      "dense_3 (Dense)              (None, 10)                50010     \n",
      "_________________________________________________________________\n",
      "dense_4 (Dense)              (None, 1)                 11        \n",
      "=================================================================\n",
      "Total params: 178,771\n",
      "Trainable params: 178,771\n",
      "Non-trainable params: 0\n",
      "_________________________________________________________________\n"
     ]
    }
   ],
   "source": [
    "embedding_dim = 50\n",
    "\n",
    "model = Sequential()\n",
    "model.add(layers.Embedding(input_dim=vocab_size, \n",
    "                           output_dim=embedding_dim, \n",
    "                           input_length=maxlen))\n",
    "model.add(layers.Flatten())\n",
    "model.add(layers.Dense(10, activation='relu'))\n",
    "model.add(layers.Dense(1, activation='sigmoid'))\n",
    "model.compile(optimizer='adam',\n",
    "              loss='binary_crossentropy',\n",
    "              metrics=['accuracy'])\n",
    "model.summary()"
   ]
  },
  {
   "cell_type": "code",
   "execution_count": 52,
   "metadata": {},
   "outputs": [
    {
     "name": "stdout",
     "output_type": "stream",
     "text": [
      "Train on 561 samples, validate on 187 samples\n",
      "Epoch 1/20\n",
      "561/561 [==============================] - 1s 2ms/step - loss: 0.6931 - acc: 0.5169 - val_loss: 0.6932 - val_acc: 0.5080\n",
      "Epoch 2/20\n",
      "561/561 [==============================] - 0s 428us/step - loss: 0.6913 - acc: 0.5152 - val_loss: 0.6935 - val_acc: 0.4866\n",
      "Epoch 3/20\n",
      "561/561 [==============================] - 0s 423us/step - loss: 0.6833 - acc: 0.5294 - val_loss: 0.6963 - val_acc: 0.4866\n",
      "Epoch 4/20\n",
      "561/561 [==============================] - 0s 444us/step - loss: 0.6470 - acc: 0.5294 - val_loss: 0.6855 - val_acc: 0.4866\n",
      "Epoch 5/20\n",
      "561/561 [==============================] - 0s 421us/step - loss: 0.4715 - acc: 0.7950 - val_loss: 0.6973 - val_acc: 0.5829\n",
      "Epoch 6/20\n",
      "561/561 [==============================] - 0s 526us/step - loss: 0.1530 - acc: 0.9786 - val_loss: 0.6844 - val_acc: 0.6364\n",
      "Epoch 7/20\n",
      "561/561 [==============================] - 0s 484us/step - loss: 0.0460 - acc: 0.9947 - val_loss: 0.6788 - val_acc: 0.6203\n",
      "Epoch 8/20\n",
      "561/561 [==============================] - 0s 437us/step - loss: 0.0206 - acc: 1.0000 - val_loss: 0.7030 - val_acc: 0.6417\n",
      "Epoch 9/20\n",
      "561/561 [==============================] - 0s 445us/step - loss: 0.0136 - acc: 1.0000 - val_loss: 0.7127 - val_acc: 0.6364\n",
      "Epoch 10/20\n",
      "561/561 [==============================] - 0s 423us/step - loss: 0.0077 - acc: 1.0000 - val_loss: 0.7352 - val_acc: 0.6578\n",
      "Epoch 11/20\n",
      "561/561 [==============================] - 0s 432us/step - loss: 0.0057 - acc: 1.0000 - val_loss: 0.7438 - val_acc: 0.6578\n",
      "Epoch 12/20\n",
      "561/561 [==============================] - 0s 501us/step - loss: 0.0043 - acc: 1.0000 - val_loss: 0.7588 - val_acc: 0.6631\n",
      "Epoch 13/20\n",
      "561/561 [==============================] - 0s 617us/step - loss: 0.0032 - acc: 1.0000 - val_loss: 0.7776 - val_acc: 0.6631\n",
      "Epoch 14/20\n",
      "561/561 [==============================] - 0s 532us/step - loss: 0.0026 - acc: 1.0000 - val_loss: 0.7871 - val_acc: 0.6578\n",
      "Epoch 15/20\n",
      "561/561 [==============================] - 0s 652us/step - loss: 0.0021 - acc: 1.0000 - val_loss: 0.7988 - val_acc: 0.6578\n",
      "Epoch 16/20\n",
      "561/561 [==============================] - 0s 386us/step - loss: 0.0018 - acc: 1.0000 - val_loss: 0.8079 - val_acc: 0.6631\n",
      "Epoch 17/20\n",
      "561/561 [==============================] - 0s 459us/step - loss: 0.0015 - acc: 1.0000 - val_loss: 0.8192 - val_acc: 0.6578\n",
      "Epoch 18/20\n",
      "561/561 [==============================] - 0s 498us/step - loss: 0.0013 - acc: 1.0000 - val_loss: 0.8267 - val_acc: 0.6631\n",
      "Epoch 19/20\n",
      "561/561 [==============================] - 0s 494us/step - loss: 0.0011 - acc: 1.0000 - val_loss: 0.8341 - val_acc: 0.6631\n",
      "Epoch 20/20\n",
      "561/561 [==============================] - 0s 484us/step - loss: 9.7896e-04 - acc: 1.0000 - val_loss: 0.8420 - val_acc: 0.6631\n",
      "Training Accuracy: 1.0000\n",
      "Testing Accuracy:  0.6631\n"
     ]
    },
    {
     "data": {
      "image/png": "[encoded data removed]",
      "text/plain": [
       "<Figure size 864x360 with 2 Axes>"
      ]
     },
     "metadata": {
      "needs_background": "light"
     },
     "output_type": "display_data"
    }
   ],
   "source": [
    "history = model.fit(X_train, y_train,\n",
    "                    epochs=20,\n",
    "                    verbose=True,\n",
    "                    validation_data=(X_test, y_test),\n",
    "                    batch_size=10)\n",
    "loss, accuracy = model.evaluate(X_train, y_train, verbose=False)\n",
    "print(\"Training Accuracy: {:.4f}\".format(accuracy))\n",
    "loss, accuracy = model.evaluate(X_test, y_test, verbose=False)\n",
    "print(\"Testing Accuracy:  {:.4f}\".format(accuracy))\n",
    "plot_history(history)"
   ]
  },
  {
   "cell_type": "markdown",
   "metadata": {},
   "source": [
    "<b> Next, I build the Deep Learning model with Embedding layer, Global Max Pooling layer, and 1 Dense layer. We can see that validation set accuracy improves to 80.2%. </b>"
   ]
  },
  {
   "cell_type": "code",
   "execution_count": 53,
   "metadata": {},
   "outputs": [
    {
     "name": "stdout",
     "output_type": "stream",
     "text": [
      "_________________________________________________________________\n",
      "Layer (type)                 Output Shape              Param #   \n",
      "=================================================================\n",
      "embedding_2 (Embedding)      (None, 100, 50)           128750    \n",
      "_________________________________________________________________\n",
      "global_max_pooling1d_1 (Glob (None, 50)                0         \n",
      "_________________________________________________________________\n",
      "dense_5 (Dense)              (None, 10)                510       \n",
      "_________________________________________________________________\n",
      "dense_6 (Dense)              (None, 1)                 11        \n",
      "=================================================================\n",
      "Total params: 129,271\n",
      "Trainable params: 129,271\n",
      "Non-trainable params: 0\n",
      "_________________________________________________________________\n"
     ]
    }
   ],
   "source": [
    "embedding_dim = 50\n",
    "\n",
    "model = Sequential()\n",
    "model.add(layers.Embedding(input_dim=vocab_size, \n",
    "                           output_dim=embedding_dim, \n",
    "                           input_length=maxlen))\n",
    "model.add(layers.GlobalMaxPool1D())\n",
    "model.add(layers.Dense(10, activation='relu'))\n",
    "model.add(layers.Dense(1, activation='sigmoid'))\n",
    "model.compile(optimizer='adam',\n",
    "              loss='binary_crossentropy',\n",
    "              metrics=['accuracy'])\n",
    "model.summary()"
   ]
  },
  {
   "cell_type": "code",
   "execution_count": 54,
   "metadata": {},
   "outputs": [
    {
     "name": "stdout",
     "output_type": "stream",
     "text": [
      "Training Accuracy: 1.0000\n",
      "Testing Accuracy:  0.8021\n"
     ]
    },
    {
     "data": {
      "image/png": "[encoded data removed]",
      "text/plain": [
       "<Figure size 864x360 with 2 Axes>"
      ]
     },
     "metadata": {
      "needs_background": "light"
     },
     "output_type": "display_data"
    }
   ],
   "source": [
    "history = model.fit(X_train, y_train,\n",
    "                    epochs=50,\n",
    "                    verbose=False,\n",
    "                    validation_data=(X_test, y_test),\n",
    "                    batch_size=10)\n",
    "loss, accuracy = model.evaluate(X_train, y_train, verbose=False)\n",
    "print(\"Training Accuracy: {:.4f}\".format(accuracy))\n",
    "loss, accuracy = model.evaluate(X_test, y_test, verbose=False)\n",
    "print(\"Testing Accuracy:  {:.4f}\".format(accuracy))\n",
    "plot_history(history)"
   ]
  },
  {
   "cell_type": "code",
   "execution_count": 67,
   "metadata": {},
   "outputs": [
    {
     "name": "stdout",
     "output_type": "stream",
     "text": [
      "_________________________________________________________________\n",
      "Layer (type)                 Output Shape              Param #   \n",
      "=================================================================\n",
      "embedding_68 (Embedding)     (None, 100, 150)          690450    \n",
      "_________________________________________________________________\n",
      "conv1d_66 (Conv1D)           (None, 96, 128)           96128     \n",
      "_________________________________________________________________\n",
      "global_max_pooling1d_67 (Glo (None, 128)               0         \n",
      "_________________________________________________________________\n",
      "dense_137 (Dense)            (None, 10)                1290      \n",
      "_________________________________________________________________\n",
      "dense_138 (Dense)            (None, 1)                 11        \n",
      "=================================================================\n",
      "Total params: 787,879\n",
      "Trainable params: 787,879\n",
      "Non-trainable params: 0\n",
      "_________________________________________________________________\n"
     ]
    }
   ],
   "source": [
    "embedding_dim = 150\n",
    "\n",
    "model = Sequential()\n",
    "model.add(layers.Embedding(vocab_size, embedding_dim, input_length=maxlen))\n",
    "model.add(layers.Conv1D(128, 5, activation='relu'))\n",
    "model.add(layers.GlobalMaxPooling1D())\n",
    "model.add(layers.Dense(10, activation='relu'))\n",
    "model.add(layers.Dense(1, activation='sigmoid'))\n",
    "model.compile(optimizer='adam',\n",
    "              loss='binary_crossentropy',\n",
    "              metrics=['accuracy'])\n",
    "model.summary()"
   ]
  },
  {
   "cell_type": "code",
   "execution_count": 59,
   "metadata": {},
   "outputs": [
    {
     "name": "stdout",
     "output_type": "stream",
     "text": [
      "Training Accuracy: 1.0000\n",
      "Testing Accuracy:  0.8021\n"
     ]
    },
    {
     "data": {
      "image/png": "[encoded data removed]",
      "text/plain": [
       "<Figure size 864x360 with 2 Axes>"
      ]
     },
     "metadata": {
      "needs_background": "light"
     },
     "output_type": "display_data"
    }
   ],
   "source": [
    "history = model.fit(X_train, y_train,\n",
    "                    epochs=10,\n",
    "                    verbose=False,\n",
    "                    validation_data=(X_test, y_test),\n",
    "                    batch_size=10)\n",
    "loss, accuracy = model.evaluate(X_train, y_train, verbose=False)\n",
    "print(\"Training Accuracy: {:.4f}\".format(accuracy))\n",
    "loss, accuracy = model.evaluate(X_test, y_test, verbose=False)\n",
    "print(\"Testing Accuracy:  {:.4f}\".format(accuracy))\n",
    "plot_history(history)"
   ]
  },
  {
   "cell_type": "markdown",
   "metadata": {},
   "source": [
    "<b> Here, I build the Deep Learning model with Embedding layer, 1D Convolutional layer, Global Max Pooling layer, and one Dense layer. Then, I conduct randomized search over set of parameter values using RandomizedSearchCV tool from the Sci-kit learn library to find the best fitting model for each of three datasets. </b>"
   ]
  },
  {
   "cell_type": "code",
   "execution_count": 60,
   "metadata": {},
   "outputs": [],
   "source": [
    "def create_model(num_filters, kernel_size, vocab_size, embedding_dim, maxlen):\n",
    "    model = Sequential()\n",
    "    model.add(layers.Embedding(vocab_size, embedding_dim, input_length=maxlen))\n",
    "    model.add(layers.Conv1D(num_filters, kernel_size, activation='relu'))\n",
    "    model.add(layers.GlobalMaxPooling1D())\n",
    "    model.add(layers.Dense(10, activation='relu'))\n",
    "    model.add(layers.Dense(1, activation='sigmoid'))\n",
    "    model.compile(optimizer='adam',\n",
    "                  loss='binary_crossentropy',\n",
    "                  metrics=['accuracy'])\n",
    "    return model"
   ]
  },
  {
   "cell_type": "code",
   "execution_count": 61,
   "metadata": {},
   "outputs": [],
   "source": [
    "param_grid = dict(num_filters=[32, 64, 128],\n",
    "                  kernel_size=[3, 5, 7],\n",
    "                  vocab_size=[5000], \n",
    "                  embedding_dim=[50],\n",
    "                  maxlen=[100])"
   ]
  },
  {
   "cell_type": "code",
   "execution_count": 63,
   "metadata": {},
   "outputs": [
    {
     "name": "stdout",
     "output_type": "stream",
     "text": [
      "Running grid search for data set : amazon\n",
      "Fitting 4 folds for each of 5 candidates, totalling 20 fits\n"
     ]
    },
    {
     "name": "stderr",
     "output_type": "stream",
     "text": [
      "[Parallel(n_jobs=1)]: Using backend SequentialBackend with 1 concurrent workers.\n",
      "[Parallel(n_jobs=1)]: Done  20 out of  20 | elapsed:  9.9min finished\n"
     ]
    },
    {
     "name": "stdout",
     "output_type": "stream",
     "text": [
      "Running amazon data set\n",
      "Best Accuracy : 0.8200\n",
      "{'vocab_size': 4603, 'num_filters': 32, 'maxlen': 100, 'kernel_size': 3, 'embedding_dim': 50}\n",
      "Test Accuracy : 0.8253\n",
      "\n",
      "\n",
      "Running grid search for data set : imdb\n",
      "Fitting 4 folds for each of 5 candidates, totalling 20 fits\n"
     ]
    },
    {
     "name": "stderr",
     "output_type": "stream",
     "text": [
      "[Parallel(n_jobs=1)]: Using backend SequentialBackend with 1 concurrent workers.\n",
      "[Parallel(n_jobs=1)]: Done  20 out of  20 | elapsed: 13.2min finished\n"
     ]
    },
    {
     "name": "stdout",
     "output_type": "stream",
     "text": [
      "Running imdb data set\n",
      "Best Accuracy : 0.8156\n",
      "{'vocab_size': 4603, 'num_filters': 128, 'maxlen': 100, 'kernel_size': 5, 'embedding_dim': 50}\n",
      "Test Accuracy : 0.8428\n",
      "\n",
      "\n",
      "Running grid search for data set : yelp\n",
      "Fitting 4 folds for each of 5 candidates, totalling 20 fits\n"
     ]
    },
    {
     "name": "stderr",
     "output_type": "stream",
     "text": [
      "[Parallel(n_jobs=1)]: Using backend SequentialBackend with 1 concurrent workers.\n",
      "[Parallel(n_jobs=1)]: Done  20 out of  20 | elapsed: 15.6min finished\n"
     ]
    },
    {
     "name": "stdout",
     "output_type": "stream",
     "text": [
      "Running yelp data set\n",
      "Best Accuracy : 0.8210\n",
      "{'vocab_size': 4603, 'num_filters': 32, 'maxlen': 100, 'kernel_size': 3, 'embedding_dim': 50}\n",
      "Test Accuracy : 0.8472\n",
      "\n",
      "\n"
     ]
    }
   ],
   "source": [
    "# Main settings\n",
    "epochs = 20\n",
    "embedding_dim = 50\n",
    "maxlen = 100\n",
    "output_file = 'output.txt'\n",
    "\n",
    "# Run grid search for each source (yelp, amazon, imdb)\n",
    "for source, frame in df.groupby('source'):\n",
    "    print('Running grid search for data set :', source)\n",
    "    sentences = df['sentences'].values\n",
    "    y = df['label'].values\n",
    "\n",
    "    # Train-test split\n",
    "    sentences_train, sentences_test, y_train, y_test = train_test_split(\n",
    "        sentences, y, test_size=0.25, random_state=1000)\n",
    "\n",
    "    # Tokenize words\n",
    "    tokenizer = Tokenizer(num_words=5000)\n",
    "    tokenizer.fit_on_texts(sentences_train)\n",
    "    X_train = tokenizer.texts_to_sequences(sentences_train)\n",
    "    X_test = tokenizer.texts_to_sequences(sentences_test)\n",
    "\n",
    "    # Adding 1 because of reserved 0 index\n",
    "    vocab_size = len(tokenizer.word_index) + 1\n",
    "\n",
    "    # Pad sequences with zeros\n",
    "    X_train = pad_sequences(X_train, padding='post', maxlen=maxlen)\n",
    "    X_test = pad_sequences(X_test, padding='post', maxlen=maxlen)\n",
    "\n",
    "    # Parameter grid for grid search\n",
    "    param_grid = dict(num_filters=[32, 64, 128],\n",
    "                      kernel_size=[3, 5, 7],\n",
    "                      vocab_size=[vocab_size],\n",
    "                      embedding_dim=[embedding_dim],\n",
    "                      maxlen=[maxlen])\n",
    "    model = KerasClassifier(build_fn=create_model,\n",
    "                            epochs=epochs, batch_size=10,\n",
    "                            verbose=False)\n",
    "    grid = RandomizedSearchCV(estimator=model, param_distributions=param_grid,\n",
    "                              cv=4, verbose=1, n_iter=5)\n",
    "    grid_result = grid.fit(X_train, y_train)\n",
    "\n",
    "    # Evaluate testing set\n",
    "    test_accuracy = grid.score(X_test, y_test)\n",
    "\n",
    "    # Save and evaluate results\n",
    "#     prompt = input(f'finished {source}; write to file and proceed? [y/n]')\n",
    "#     if prompt.lower() not in {'y', 'true', 'yes'}:\n",
    "#         break\n",
    "#     with open(output_file, 'w+') as f:\n",
    "    s = ('Running {} data set\\nBest Accuracy : '\n",
    "             '{:.4f}\\n{}\\nTest Accuracy : {:.4f}\\n\\n')\n",
    "    output_string = s.format(\n",
    "        source,\n",
    "        grid_result.best_score_,\n",
    "        grid_result.best_params_,\n",
    "        test_accuracy)\n",
    "    print(output_string)\n",
    "#         f.write(output_string)"
   ]
  },
  {
   "cell_type": "markdown",
   "metadata": {},
   "source": [
    "<b>\n",
    "    1. The best fitting model for Amazon dataset is the model with 32 convolution filters and kernel size of 3. Achieved accuracy on test dataset is 82.5%.\n",
    "    <br>\n",
    "    2. The best fitting model for IMDB dataset is the model with 128 convolution filters and kernel size of 5. Achieved accuracy on test dataset is 84.3%.\n",
    "    <br>\n",
    "    3. The best fitting model for Yelp dataset is the model with 32 convolution filters and kernel size of 3. Achieved accuracy on test dataset is 84.7%\n",
    "    <br>\n",
    "    <br>\n",
    "    We can observe that Deep Learning model with Embedding layer, Convolution layer, Global Maxo Pooling layer, and Dense layer performs better than the previous models. Convoluation layers are good at exploring different patterns inside sentences. And Global Max Pooling layer helps erasing the noise in the dataset. Finally, Dense layer can generate the best combination of the patterns derived by the Convolution filters.\n",
    "    </b>"
   ]
  }
 ],
 "metadata": {
  "kernelspec": {
   "display_name": "Python 3",
   "language": "python",
   "name": "python3"
  },
  "language_info": {
   "codemirror_mode": {
    "name": "ipython",
    "version": 3
   },
   "file_extension": ".py",
   "mimetype": "text/x-python",
   "name": "python",
   "nbconvert_exporter": "python",
   "pygments_lexer": "ipython3",
   "version": "3.7.4"
  }
 },
 "nbformat": 4,
 "nbformat_minor": 2
}
